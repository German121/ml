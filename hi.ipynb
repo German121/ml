{
 "cells": [
  {
   "cell_type": "code",
   "execution_count": null,
   "id": "6592b57a",
   "metadata": {},
   "outputs": [
    {
     "name": "stdout",
     "output_type": "stream",
     "text": [
      "   value value_bin\n",
      "0    1.2   0.0-2.5\n",
      "1    2.5   0.0-2.5\n",
      "2    3.0   2.5-5.0\n",
      "3    4.7   2.5-5.0\n",
      "4    5.1   5.0-7.0\n",
      "5    2.4   0.0-2.5\n",
      "6    6.9   5.0-7.0\n"
     ]
    }
   ],
   "source": [
    "import pandas as pd\n",
    "\n",
    "# Пример данных с float-значениями\n",
    "data = {'value': [1.2, 2.5, 3.0, 4.7, 5.1, 2.4, 6.9]}\n",
    "df = pd.DataFrame(data)\n",
    "\n",
    "# Задаем интервалы с float-границами (например, 2.5)\n",
    "bins = [0.0, 2.5, 5.0, 7.0]  # Границы: 0.0, 2.5, 5.0, 7.0\n",
    "labels = ['0.0-2.5', '2.5-5.0', '5.0-7.0']\n",
    "\n",
    "# Разбиваем данные на интервалы\n",
    "df['value_bin'] = pd.cut(df['value'], bins=bins, labels=labels)\n",
    "\n",
    "print(df)\n",
    "\n",
    "'''new_data['base_happiness'] = pd.cut(new_data['base_happiness'], bins=[0, 20, 80, 110, 140], labels=['0-20', '20-80', '80-110', '110-140'])\n",
    "\n",
    "legend_pokemons = new_data[new_data['is_legendary'] == 1]\n",
    "no_legend_pokemons = new_data[new_data['is_legendary'] == 0]\n",
    "\n",
    "number(new_data, legend_pokemons, no_legend_pokemons, 'base_happiness')'''"
   ]
  }
 ],
 "metadata": {
  "kernelspec": {
   "display_name": "Python 3",
   "language": "python",
   "name": "python3"
  },
  "language_info": {
   "codemirror_mode": {
    "name": "ipython",
    "version": 3
   },
   "file_extension": ".py",
   "mimetype": "text/x-python",
   "name": "python",
   "nbconvert_exporter": "python",
   "pygments_lexer": "ipython3",
   "version": "3.12.3"
  }
 },
 "nbformat": 4,
 "nbformat_minor": 5
}
